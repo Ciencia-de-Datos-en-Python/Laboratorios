{
 "cells": [
  {
   "cell_type": "code",
   "execution_count": null,
   "id": "7e912142-9064-4e3c-a1e5-7e68960dc5d2",
   "metadata": {},
   "outputs": [],
   "source": [
    "#1. Cree un procedimiento en Python dado un numero entero en decimal \n",
    "#despliegue su representacion en numero binario.\n",
    "\n",
    "def decimal_a_binario(decimal):\n",
    "    if decimal <= 0:\n",
    "        return \"0\"\n",
    "    # Aquí almacenamos el resultado\n",
    "    binario = \"\"\n",
    "    # Mientras se pueda dividir...\n",
    "    while decimal > 0:\n",
    "        # Saber si es 1 o 0\n",
    "        residuo = int(decimal % 2)\n",
    "        # E ir dividiendo el decimal\n",
    "        decimal = int(decimal / 2)\n",
    "        # Ir agregando el número (1 o 0) a la izquierda del resultado\n",
    "        binario = str(residuo) + binario\n",
    "    return binario\n",
    "\n",
    "try:\n",
    "    decimal = int(input(\"Ingresa un número entero en base decimal: \"))\n",
    "    binario = decimal_a_binario(decimal)\n",
    "    print(f\"El número {decimal} es {binario} en binario\")\n",
    "except (ValueError):\n",
    "    print (\"Error: Ingrese valor entero\")\n"
   ]
  },
  {
   "cell_type": "code",
   "execution_count": null,
   "id": "bd28f30b-8ee5-44c0-b941-d74fb4905a8f",
   "metadata": {},
   "outputs": [],
   "source": [
    "#2. Desarrolle en Python una funcion que devuelva verdadero si un numero entero \n",
    "#que recibe como parametro es primo y devuelva falso en el caso contrario.\n",
    "\n",
    "def es_primo(num):\n",
    "    #Validar si es menos que 2 no es primo\n",
    "    if num < 2:     \n",
    "        return False\n",
    "    #Ciclo desde dos hasta el numero ingresado\n",
    "    for i in range(2, num):  \n",
    "        #Si el resto da 0 no es primo\n",
    "        if num % i == 0:    \n",
    "            return False\n",
    "    return True    \n",
    "\n",
    "try:\n",
    "    entero= int(input(\"Ingrese un número entero\"))\n",
    "    print (es_primo(entero))\n",
    "except (ValueError):\n",
    "    print (\"Error: Ingrese valores enteros... \")    \n",
    "    "
   ]
  },
  {
   "cell_type": "markdown",
   "id": "d828d861-85d1-4ff9-97db-9d80565a5aeb",
   "metadata": {
    "tags": []
   },
   "source": []
  },
  {
   "cell_type": "code",
   "execution_count": 186,
   "id": "d06309bc-3589-4a9a-8845-961711e3440c",
   "metadata": {},
   "outputs": [
    {
     "name": "stdin",
     "output_type": "stream",
     "text": [
      "Ingrese tamaño de lista:  5\n",
      "Ingrese un valor entero 1:  3\n",
      "Ingrese un valor entero 2:  6\n",
      "Ingrese un valor entero 3:  8\n",
      "Ingrese un valor entero 4:  6\n",
      "Ingrese un valor entero 5:  9\n"
     ]
    },
    {
     "name": "stdout",
     "output_type": "stream",
     "text": [
      "La desviación estándard de la lista  [3, 6, 8, 6, 9] es:  2.0591260281974\n"
     ]
    }
   ],
   "source": [
    "#3. Haga un programa en Python que dada una lista de n numeros, calcule la desviacion estandar\n",
    "#del conjunto de n´umeros, para este ejercicio no puede utilizar ninguna funci´on que resuelva el problema.\n",
    "\n",
    "def estadistica(lista):\n",
    "    media = 0\n",
    "    media = sum(lista) / len(lista)\n",
    "    var = sum((l-media)**2 for l in lista) / len(lista)\n",
    "    ds = var**(0.5)\n",
    "    return ds\n",
    "\n",
    "#definimos una lista vacia\n",
    "lista=[]\n",
    "try: \n",
    "    Tam = int(input(\"Ingrese tamaño de lista: \"))\n",
    "    for x in range(0, Tam):\n",
    "        try: \n",
    "            valor=int(input(\"Ingrese valor entero \" + str(x+1) + \": \"))\n",
    "            lista.append(valor)\n",
    "        except (ValueError):\n",
    "            raise \n",
    "    print(\"La desviación estándard de la lista \", lista ,\"es: \", estadistica(lista))\n",
    "except (ValueError):\n",
    "    print(\"Error: El tamaño de la lista debe ser valor numérico y los números ingresados Enteros...\")"
   ]
  },
  {
   "cell_type": "code",
   "execution_count": 185,
   "id": "c92b935c-e759-4180-af98-91f81014bc9b",
   "metadata": {},
   "outputs": [
    {
     "name": "stdin",
     "output_type": "stream",
     "text": [
      "Ingrese tamaño de arreglo 5\n",
      "Ingrese valor entero 1:  3\n",
      "Ingrese valor entero 2:  7\n",
      "Ingrese valor entero 3:  5\n",
      "Ingrese valor entero 4:  6\n",
      "Ingrese valor entero 5:  7\n"
     ]
    },
    {
     "name": "stdout",
     "output_type": "stream",
     "text": [
      "Arreglo desordenado [3, 7, 5, 6, 7]\n",
      "Arreglo ordenado [3, 5, 6, 7, 7]\n"
     ]
    }
   ],
   "source": [
    "#4. Desarrolle en Python una funcion que dado un arreglo de corra el algoritmo de ordenamiento\n",
    "#burbuja y devuelva un nuevo arreglo ordenado. Posteriormente cree una funcion main para\n",
    "#probar su funcion.\n",
    "\n",
    "def orden_burbuja(A):\n",
    "    for i in range(1,len(A)):\n",
    "        for j in range(0,len(A)-i):\n",
    "            if(A[j+1] < A[j]):\n",
    "                aux=A[j];\n",
    "                A[j]=A[j+1];\n",
    "                A[j+1]=aux;\n",
    "    return A;\n",
    " \n",
    "#Programa Principal\n",
    "def main():\n",
    "    A=[]\n",
    "    try: \n",
    "        Tam = int(input(\"Ingrese tamaño de arreglo\"))\n",
    "        for x in range(0, Tam):\n",
    "            try: \n",
    "                valor=int(input(\"Ingrese valor entero \" + str(x+1)+\": \"))\n",
    "                A.append(valor)\n",
    "            except (ValueError):\n",
    "                raise \n",
    "        print(\"Arreglo desordenado\", A)\n",
    "        print(\"Arreglo ordenado\", orden_burbuja(A))         \n",
    "    except (ValueError):\n",
    "        print(\"Error: El tamaño del arreglo debe ser numérico y los números ingresados Enteros...\")\n",
    "\n",
    "if  __name__ == \"__main__\": \n",
    "    main()       "
   ]
  },
  {
   "cell_type": "code",
   "execution_count": 181,
   "id": "55f35947-21f9-410f-b94f-6c1c1f5e0e5b",
   "metadata": {},
   "outputs": [
    {
     "name": "stdin",
     "output_type": "stream",
     "text": [
      "Ingrese Numero de elementos que tendrá la tupla 5\n",
      "Ingrese valor 1: La \n",
      "Ingrese valor 2: Vaca \n",
      "Ingrese valor 3: De \n",
      "Ingrese valor 4: Tia \n",
      "Ingrese valor 5: Pancha.\n"
     ]
    },
    {
     "name": "stdout",
     "output_type": "stream",
     "text": [
      "La tupla:  ('La ', 'Vaca ', 'De ', 'Tia ', 'Pancha.')  Convertida en str es:  La Vaca De Tia Pancha.\n"
     ]
    }
   ],
   "source": [
    "#5. Escriba una funcion en Python que dada una tupla de elementos (numeros o letras) esta se\n",
    "# convierta a un string. Tomar nota del siguiente ejemplo:\n",
    "# Si la entrada fuera: (10, 20, 40, 5, 70)\n",
    "# La salida deber´ıa ser: 102040570\n",
    "\n",
    "def convertir_str(tup):\n",
    "    str1 = \"\"\n",
    "    for i in range (0, len(tup)):\n",
    "            str1 = str1 + str(tup[i])\n",
    "    return str1\n",
    "\n",
    "#Llenamos una lista de datos y la convertimos a tupla\n",
    "lista=[]\n",
    "Tam = int(input(\"Ingrese Numero de elementos que tendrá la tupla\"))\n",
    "for x in range(0, Tam):\n",
    "    valor=input(\"Ingrese valor \" + str(x+1) + \":\")\n",
    "    lista.append(valor)\n",
    "tpl = tuple(lista)\n",
    "print(\"La tupla: \", tpl, \" Convertida en str es: \", convertir_str(tpl))\n",
    "\n",
    "\n",
    "\n"
   ]
  },
  {
   "cell_type": "code",
   "execution_count": 194,
   "id": "6077021c-f17f-49d5-8ce0-c795f17414e8",
   "metadata": {},
   "outputs": [
    {
     "name": "stdout",
     "output_type": "stream",
     "text": [
      "[(), (), 'X', ('a', 'b'), ('a', 'b', 'c'), 'd']\n",
      "6\n",
      "['X', ('a', 'b'), ('a', 'b', 'c'), 'd']\n",
      "4\n"
     ]
    }
   ],
   "source": [
    "#6. Cree un programa en Python que dada una lista de tuplas, elimine las tuplas que estan vacıas.\n",
    "#Tomar nota del siguiente ejemplo:\n",
    "#Si la lista fuera: [(), (), (’X’,), (’a’, ’b’), (’a’, ’b’, ’c’), (’d’)]\n",
    "#El resultado deber´ıa ser: [(’X’), (’a’, ’b’), (’a’, ’b’, ’c’), ’d’]\n",
    "\n",
    "def Elimina (tup):\n",
    "    tup = [t for t in tup if t]\n",
    "    return tup\n",
    "\n",
    "tuplas = [(), (), ('X'), ('a','b'), ('a','b', 'c'), ('d')] \n",
    "\n",
    "print(tuplas)\n",
    "print(len(tuplas))\n",
    "\n",
    "tuplas = Elimina(tuplas)\n",
    "\n",
    "print(tuplas)\n",
    "print(len(tuplas))\n"
   ]
  },
  {
   "cell_type": "code",
   "execution_count": 234,
   "id": "641d270d-fe8b-42aa-9d54-8d554bdcd027",
   "metadata": {},
   "outputs": [
    {
     "name": "stdout",
     "output_type": "stream",
     "text": [
      "((10, 10, 10, 12), (30, 45, 56, 45), (81, 80, 39, 32))\n",
      "(10.5, 44.0, 58.0) <class 'tuple'>\n"
     ]
    }
   ],
   "source": [
    "#7. Cree una funcion en Python que dada una tupla de tuplas con numeros, produzca una tupla\n",
    "#con el promedio de cada tupla individual. Tomar nota del siguiente ejemplo:\n",
    "#Si la tupla de entrada fuera: ((10, 10, 10, 12), (30, 45, 56, 45), (81, 80, 39, 32))\n",
    "#El resultado deber´ıa ser: (10.5, 44, 58)\n",
    "\n",
    "def Medias(Tuplas):\n",
    "    StrTpl = \"(\"\n",
    "    for i in range (0, len(Tuplas)):\n",
    "        media = 0\n",
    "        media = sum(Tuplas[i]) / len(Tuplas[i])\n",
    "        if i < (len(Tuplas)-1):\n",
    "            StrTpl = StrTpl + str(media) + \", \"\n",
    "        else: StrTpl = StrTpl + str(media) + \")\"\n",
    "    return eval(StrTpl) #Convierto Str a Tuple\n",
    "\n",
    "Tuplas = ((10, 10, 10, 12), (30, 45, 56, 45), (81, 80, 39, 32))\n",
    "print (Tuplas)\n",
    "\n",
    "Tpl_Medias = Medias(Tuplas)\n",
    "\n",
    "print (Tpl_Medias, type(Tpl_Medias))"
   ]
  }
 ],
 "metadata": {
  "kernelspec": {
   "display_name": "Python 3 (ipykernel)",
   "language": "python",
   "name": "python3"
  },
  "language_info": {
   "codemirror_mode": {
    "name": "ipython",
    "version": 3
   },
   "file_extension": ".py",
   "mimetype": "text/x-python",
   "name": "python",
   "nbconvert_exporter": "python",
   "pygments_lexer": "ipython3",
   "version": "3.9.7"
  }
 },
 "nbformat": 4,
 "nbformat_minor": 5
}
